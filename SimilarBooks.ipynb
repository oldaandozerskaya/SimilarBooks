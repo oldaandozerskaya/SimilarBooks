{
  "nbformat": 4,
  "nbformat_minor": 0,
  "metadata": {
    "colab": {
      "name": "SimilarBooks",
      "provenance": [],
      "authorship_tag": "ABX9TyPRahgbAJ0wssO++4Rx+nH4",
      "include_colab_link": true
    },
    "kernelspec": {
      "name": "python3",
      "display_name": "Python 3"
    }
  },
  "cells": [
    {
      "cell_type": "markdown",
      "metadata": {
        "id": "view-in-github",
        "colab_type": "text"
      },
      "source": [
        "<a href=\"https://colab.research.google.com/github/oldaandozerskaya/SimilarBooks/blob/main/SimilarBooks.ipynb\" target=\"_parent\"><img src=\"https://colab.research.google.com/assets/colab-badge.svg\" alt=\"Open In Colab\"/></a>"
      ]
    },
    {
      "cell_type": "code",
      "metadata": {
        "id": "5yz7zfPeahl5"
      },
      "source": [
        "from bs4 import BeautifulSoup\n",
        "import requests as req\n",
        "import re"
      ],
      "execution_count": null,
      "outputs": []
    },
    {
      "cell_type": "code",
      "metadata": {
        "id": "oZJ0ABTWcQLY"
      },
      "source": [
        "from bs4 import BeautifulSoup\n",
        "from bs4.dammit import EncodingDetector\n",
        "url = \"https://www.livelib.ru/book/1001445982-pobeg-iz-shoushenka-stiven-king\"\n",
        "resp = req.get(url)\n",
        "http_encoding = resp.encoding if 'charset' in resp.headers.get('content-type', '').lower() else None\n",
        "html_encoding = EncodingDetector.find_declared_encoding(resp.content, is_html=True)\n",
        "encoding = html_encoding or http_encoding\n",
        "soup = BeautifulSoup(resp.content, 'lxml', from_encoding=encoding)"
      ],
      "execution_count": null,
      "outputs": []
    },
    {
      "cell_type": "code",
      "metadata": {
        "id": "5CzKXh46baPP"
      },
      "source": [
        "soup.title.text"
      ],
      "execution_count": null,
      "outputs": []
    },
    {
      "cell_type": "code",
      "metadata": {
        "id": "OEmBNsyVeeld"
      },
      "source": [
        "def check_similar(url):#возвращает список похожих книг\n",
        "  similar_url = 'https://www.livelib.ru/book/'\n",
        "  pos = url.find('-')\n",
        "  similar_url += str(url[28:])+'/similar'\n",
        "  resp = req.get(similar_url)\n",
        "  http_encoding = resp.encoding if 'charset' in resp.headers.get('content-type', '').lower() else None\n",
        "  html_encoding = EncodingDetector.find_declared_encoding(resp.content, is_html=True)\n",
        "  encoding = html_encoding or http_encoding\n",
        "  soup = BeautifulSoup(resp.content, 'lxml', from_encoding=encoding)\n",
        "  items = soup.find_all('a', class_='brow-book-name with-cycle')\n",
        "  similar_books = []\n",
        "  for item in items:\n",
        "    pos = str(item).find('edition_id=')\n",
        "    temp = str(item)[pos:]\n",
        "    pos = temp.find('&')\n",
        "    similar_books.append('https://www.livelib.ru/book/'+temp[11:pos])\n",
        "  return similar_url, similar_books\n",
        "\n",
        "#check_similar('https://www.livelib.ru/book/1001445982')"
      ],
      "execution_count": null,
      "outputs": []
    },
    {
      "cell_type": "code",
      "metadata": {
        "id": "QEI0U8xdg1VJ"
      },
      "source": [
        "def get_plot(url): #получить сюжет\n",
        "  resp = req.get(url)\n",
        "  http_encoding = resp.encoding if 'charset' in resp.headers.get('content-type', '').lower() else None\n",
        "  html_encoding = EncodingDetector.find_declared_encoding(resp.content, is_html=True)\n",
        "  encoding = html_encoding or http_encoding\n",
        "  soup = BeautifulSoup(resp.content, 'lxml', from_encoding=encoding)\n",
        "  content = str(soup)\n",
        "  pos = content.find('Сюжет</label>')\n",
        "  if pos>0:\n",
        "    temp = content[pos+13:]\n",
        "    pos = temp.find('</div>')\n",
        "    return temp[:pos]\n",
        "  else:\n",
        "    return ''\n",
        "\n",
        "def clean_plot(text): #очистить текст от тэгов\n",
        "  try:\n",
        "    text = text.replace('\\r\\n',' ')\n",
        "    text = text.replace('\\n',' ')\n",
        "    new_text = ''\n",
        "    write = True\n",
        "    for s in text:\n",
        "      if s=='<':\n",
        "        write = False\n",
        "      if write:\n",
        "        new_text += s\n",
        "      if s=='>':\n",
        "        write = True\n",
        "    new_text = re.sub(' +', ' ', new_text)\n",
        "    if new_text[0]==' ':\n",
        "      new_text=new_text[1:]\n",
        "    return new_text.replace('  ',' ')\n",
        "  except:\n",
        "    return ''\n",
        "\n",
        "#url = \"https://www.livelib.ru/book/1001445982-pobeg-iz-shoushenka-stiven-king\"\n",
        "#print(clean_plot(get_plot(url)))"
      ],
      "execution_count": null,
      "outputs": []
    },
    {
      "cell_type": "code",
      "metadata": {
        "id": "TEWBf1CGQfun"
      },
      "source": [
        "def get_abstract(url): #получить аннотацию\n",
        "  resp = req.get(url)\n",
        "  http_encoding = resp.encoding if 'charset' in resp.headers.get('content-type', '').lower() else None\n",
        "  html_encoding = EncodingDetector.find_declared_encoding(resp.content, is_html=True)\n",
        "  encoding = html_encoding or http_encoding\n",
        "  soup = BeautifulSoup(resp.content, 'lxml', from_encoding=encoding)\n",
        "  content = str(soup)\n",
        "  pos = content.find('<p itemprop=\"description\">')\n",
        "  if pos>0:\n",
        "    temp = content[pos+26:]\n",
        "    pos = temp.find('</div>')\n",
        "    return temp[:pos]\n",
        "  else:\n",
        "    return ''\n",
        "\n",
        "#print(clean_plot(get_abstract(url)))"
      ],
      "execution_count": null,
      "outputs": []
    },
    {
      "cell_type": "code",
      "metadata": {
        "id": "uWPL_gPwUur0"
      },
      "source": [
        "#получить список ссылок на книги со страницы\n",
        "\n",
        "url = 'https://www.livelib.ru/genre/%D0%9A%D0%BB%D0%B0%D1%81%D1%81%D0%B8%D1%87%D0%B5%D1%81%D0%BA%D0%B0%D1%8F-%D0%BB%D0%B8%D1%82%D0%B5%D1%80%D0%B0%D1%82%D1%83%D1%80%D0%B0'\n",
        "\n",
        "\n",
        "def get_books(url):\n",
        "  resp = req.get(url)\n",
        "  http_encoding = resp.encoding if 'charset' in resp.headers.get('content-type', '').lower() else None\n",
        "  html_encoding = EncodingDetector.find_declared_encoding(resp.content, is_html=True)\n",
        "  encoding = html_encoding or http_encoding\n",
        "  soup = BeautifulSoup(resp.content, 'lxml', from_encoding=encoding)\n",
        "\n",
        "  content = str(soup)\n",
        "  st = '<a class=\"brow-expand ll-toggle-text nowrap\" href=\"javascript:void(0);\" data-id=\"book-'\n",
        "  l = len(st)\n",
        "\n",
        "  pos = 0\n",
        "  ids = []\n",
        "\n",
        "  items = soup.find_all(\"a\", class_='brow-expand ll-toggle-text nowrap')\n",
        "\n",
        "  for item in items:\n",
        "    num = str(item)[59:69]\n",
        "    ids.append('https://www.livelib.ru/book/'+num)\n",
        "\n",
        "  return ids\n",
        "\n",
        "#get_books(url)"
      ],
      "execution_count": null,
      "outputs": []
    },
    {
      "cell_type": "code",
      "metadata": {
        "id": "NlYEJ4K5U0gl"
      },
      "source": [
        "#получить атрибуты книги\n",
        "def get_attr(url):\n",
        "  resp = req.get(url)\n",
        "  http_encoding = resp.encoding if 'charset' in resp.headers.get('content-type', '').lower() else None\n",
        "  html_encoding = EncodingDetector.find_declared_encoding(resp.content, is_html=True)\n",
        "  encoding = html_encoding or http_encoding\n",
        "  soup = BeautifulSoup(resp.content, 'lxml', from_encoding=encoding)\n",
        "  author = soup.find('span', class_='hidden').text\n",
        "  title = soup.title.text\n",
        "  genre = soup.find('div', class_='bc-genre__limiter').find_all('a')\n",
        "  genres = []\n",
        "  for i in range(len(genre)):\n",
        "    pos = str(genre[i])[16:].find('/')\n",
        "    item = str(genre[i])[16:pos+16]\n",
        "    if item.find('Еще')==-1:\n",
        "      genres.append(item)\n",
        "  return author, title, genres\n",
        "\n",
        "#get_attr(get_books(url)[0])"
      ],
      "execution_count": null,
      "outputs": []
    },
    {
      "cell_type": "code",
      "metadata": {
        "id": "MDLrgw-VF6D6"
      },
      "source": [
        "def get_book_info(url):\n",
        "  resp = req.get(url)\n",
        "  http_encoding = resp.encoding if 'charset' in resp.headers.get('content-type', '').lower() else None\n",
        "  html_encoding = EncodingDetector.find_declared_encoding(resp.content, is_html=True)\n",
        "  encoding = html_encoding or http_encoding\n",
        "  soup = BeautifulSoup(resp.content, 'lxml', from_encoding=encoding)\n",
        "\n",
        "  author = soup.find('span', class_='hidden').text\n",
        "  title = soup.title.text\n",
        "  genre = soup.find('div', class_='bc-genre__limiter').find_all('a')\n",
        "  genres = []\n",
        "  for i in range(len(genre)):\n",
        "    pos = str(genre[i])[16:].find('/')\n",
        "    item = str(genre[i])[16:pos+16]\n",
        "    if item.find('Еще')==-1:\n",
        "      genres.append(item)\n",
        "\n",
        "  content = str(soup)\n",
        "  pos = content.find('<p itemprop=\"description\">')\n",
        "  if pos>0:\n",
        "    temp = content[pos+26:]\n",
        "    pos = temp.find('</div>')\n",
        "    abstract = temp[:pos]\n",
        "  else:\n",
        "    abstract = ''\n",
        "\n",
        "  pos = content.find('Сюжет</label>')\n",
        "  if pos>0:\n",
        "    temp = content[pos+13:]\n",
        "    pos = temp.find('</div>')\n",
        "    plot = temp[:pos]\n",
        "  else:\n",
        "    plot = ''\n",
        "\n",
        "  return author, title, genres, clean_plot(abstract), clean_plot(plot)"
      ],
      "execution_count": null,
      "outputs": []
    },
    {
      "cell_type": "code",
      "metadata": {
        "id": "lQ8vp7L9ERUf"
      },
      "source": [
        "import csv\n",
        "classic_url = 'https://www.livelib.ru/genre/Зарубежная-литература/best/listview/biglist/~'\n",
        "num = 1\n",
        "max_num = 50\n",
        "import time\n",
        "import random\n",
        "\n",
        "book_id = 230038\n",
        "#fields = ['id', 'title1', 'author1', 'genres1', 'title2', 'author2', 'genres2']\n",
        "#with open('/content/drive/My Drive/SimilarBooks/pairs.csv', 'a') as f:\n",
        "    #writer = csv.writer(f)\n",
        "    #writer.writerow(fields)\n",
        "\n",
        "similar_books = []\n",
        "book_name = 'Жареные зеленые помидоры в кафе «Полустанок»'\n",
        "started = False\n",
        "\n",
        "for i in range(num, max_num):\n",
        "  print('===============================================')\n",
        "  print(i)\n",
        "  time.sleep(random.randint(5,10))\n",
        "  books = get_books(classic_url+str(i))\n",
        "  \n",
        "  for book_url in books:\n",
        "    time.sleep(random.randint(3,20))\n",
        "    similar_url, similar_books = check_similar(book_url)\n",
        "    if str(similar_books) == '[]':\n",
        "      continue\n",
        "    else:\n",
        "      time.sleep(random.randint(5,10))\n",
        "      a1, t1, g1, abstract1, plot1 = get_book_info(book_url)\n",
        "      \n",
        "      if t1==book_name:\n",
        "        started = True\n",
        "        continue\n",
        "      if started:\n",
        "        if plot1 == '':\n",
        "          continue\n",
        "        else:\n",
        "          for s_book in similar_books:\n",
        "              time.sleep(random.randint(3,20))\n",
        "              try:\n",
        "                a2, t2, g2, abstract2, plot2 = get_book_info(s_book)\n",
        "              except:\n",
        "                continue\n",
        "              if plot2 == '':\n",
        "                continue\n",
        "              else:\n",
        "                print(t1)\n",
        "                print(t2) \n",
        "                print('***')  \n",
        "                fields = [book_id, t1, a1, g1, t2, a2, g2]\n",
        "                with open('/content/drive/My Drive/SimilarBooks/pairs.csv', 'a') as f:\n",
        "                  writer = csv.writer(f)\n",
        "                  writer.writerow(fields)\n",
        "\n",
        "                with open('/content/drive/My Drive/SimilarBooks/plots/'+str(book_id)+'_1.txt',\\\n",
        "                          encoding='utf-8', mode = 'w') as f:\n",
        "                  f.write(plot1)\n",
        "                \n",
        "                with open('/content/drive/My Drive/SimilarBooks/plots/'+str(book_id)+'_2.txt',\\\n",
        "                          encoding='utf-8', mode = 'w') as f:\n",
        "                  f.write(plot2)\n",
        "                \n",
        "                with open('/content/drive/My Drive/SimilarBooks/abstracts/'+str(book_id)+'_1.txt',\\\n",
        "                          encoding='utf-8', mode = 'w') as f:\n",
        "                  f.write(abstract1)\n",
        "                \n",
        "                with open('/content/drive/My Drive/SimilarBooks/abstracts/'+str(book_id)+'_2.txt', \\\n",
        "                          encoding='utf-8', mode = 'w') as f:\n",
        "                  f.write(abstract2)\n",
        "\n",
        "                book_id+=1 \n",
        "          \n"
      ],
      "execution_count": null,
      "outputs": []
    },
    {
      "cell_type": "code",
      "metadata": {
        "id": "p-i90E_vujBn"
      },
      "source": [
        "from google.colab import drive\n",
        "drive.mount('/content/drive')"
      ],
      "execution_count": null,
      "outputs": []
    }
  ]
}